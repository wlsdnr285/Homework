{
  "nbformat": 4,
  "nbformat_minor": 0,
  "metadata": {
    "colab": {
      "name": "열유체공학실험-2015000719-HW04.ipynb",
      "provenance": [],
      "collapsed_sections": [],
      "include_colab_link": true
    },
    "kernelspec": {
      "name": "python3",
      "display_name": "Python 3"
    }
  },
  "cells": [
    {
      "cell_type": "markdown",
      "metadata": {
        "id": "view-in-github",
        "colab_type": "text"
      },
      "source": [
        "<a href=\"https://colab.research.google.com/github/wlsdnr285/Homework/blob/master/%EC%97%B4%EC%9C%A0%EC%B2%B4%EA%B3%B5%ED%95%99%EC%8B%A4%ED%97%98_2015000719_HW04.ipynb\" target=\"_parent\"><img src=\"https://colab.research.google.com/assets/colab-badge.svg\" alt=\"Open In Colab\"/></a>"
      ]
    },
    {
      "cell_type": "code",
      "metadata": {
        "id": "XmvVnxnxu8sY",
        "colab_type": "code",
        "colab": {}
      },
      "source": [
        "print(\"1. python문법 함수\")\n",
        "\n",
        "def multi(x):\n",
        "     for y in range(1,10):\n",
        "          print(x, \"X\", y, \"=\", x*y)\n",
        "\n",
        "%timeit multi(x);"
      ],
      "execution_count": 0,
      "outputs": []
    },
    {
      "cell_type": "code",
      "metadata": {
        "id": "2WzClT0A9iK8",
        "colab_type": "code",
        "colab": {}
      },
      "source": [
        "print(\"2. numpy 함수\")\n",
        "\n",
        "import numpy as np\n",
        "def multi2(a):\n",
        "      x1=np.arange(x,(x*10),x)\n",
        "      print(x1)\n",
        "\n",
        "%timeit multi2(x);\n",
        "    \n"
      ],
      "execution_count": 0,
      "outputs": []
    },
    {
      "cell_type": "code",
      "metadata": {
        "id": "xSlT5aRIAmbw",
        "colab_type": "code",
        "colab": {}
      },
      "source": [
        "print(\"3. numba.jit 함수\")\n",
        "\n",
        "import numba\n",
        "@numba.jit(\"void(int32)\",nopython=True)\n",
        "def multi3_jit(x):\n",
        "     for y in range(1,10):\n",
        "          print(x, \"X\", y, \"=\", x*y)\n",
        "\n",
        "%timeit multi3_jit(x);"
      ],
      "execution_count": 0,
      "outputs": []
    },
    {
      "cell_type": "code",
      "metadata": {
        "id": "3Zc1o8Q2EJjQ",
        "colab_type": "code",
        "outputId": "c5facf42-cf23-4fcf-ee8a-e976c894409c",
        "colab": {
          "base_uri": "https://localhost:8080/",
          "height": 52
        }
      },
      "source": [
        "!find / -iname 'libdevice'\n",
        "!find / -iname 'libnvvm.so'"
      ],
      "execution_count": 162,
      "outputs": [
        {
          "output_type": "stream",
          "text": [
            "/usr/local/cuda-10.0/nvvm/libdevice\n",
            "/usr/local/cuda-10.0/nvvm/lib64/libnvvm.so\n"
          ],
          "name": "stdout"
        }
      ]
    },
    {
      "cell_type": "code",
      "metadata": {
        "id": "2S6-AC76R9nM",
        "colab_type": "code",
        "colab": {}
      },
      "source": [
        "import os\n",
        "os.environ['NUMBAPRO_LIBDEVICE'] = \"/usr/local/cuda-10.0/nvvm/libdevice\"\n",
        "os.environ['NUMBAPRO_NVVM'] = \"/usr/local/cuda-10.0/nvvm/lib64/libnvvm.so\""
      ],
      "execution_count": 0,
      "outputs": []
    },
    {
      "cell_type": "code",
      "metadata": {
        "id": "ZTZ_mNRZRzGh",
        "colab_type": "code",
        "colab": {}
      },
      "source": [
        "print(\"4. cuda 함수 및 네 가지 사용 결과를 비교\")\n",
        "\n",
        "import numba\n",
        "import numpy as np\n",
        "from numba import vectorize\n",
        "x = 3\n",
        "a = np.array([x,x,x,x,x,x,x,x,x])\n",
        "b = np.arange(1,10)\n",
        "\n",
        "@vectorize\n",
        "def add_ufunc_cpu(x, y):\n",
        "    return x * y\n",
        "  \n",
        "x=3\n",
        "print(add_ufunc_cpu(a,b))\n",
        "      \n",
        "@vectorize(['int64(int64, int64)'], target='cuda') # Type signature and target are required for the GPU\n",
        "def add_ufunc(x, y):\n",
        "    return x * y\n",
        "\n",
        "\n",
        "%timeit add_ufunc_cpu(a, b)\n",
        "%timeit add_ufunc(a, b)\n",
        "      "
      ],
      "execution_count": 0,
      "outputs": []
    },
    {
      "cell_type": "markdown",
      "metadata": {
        "id": "w2ybPF4lTQGA",
        "colab_type": "text"
      },
      "source": [
        "1. 파이썬 문법으로 구구단을 출력했을 때 걸리는 시간은\n",
        " \n",
        " 100 loops, best of 3: 10.8 ms per loop 가 나왔고,\n",
        " \n",
        "2. numpy 함수를 이용하여 구구단을 출력했을 때 걸리는 시간은\n",
        "\n",
        " 1000 loops, best of 3: 442 µs per loop 가 나왔습니다.\n",
        " \n",
        "3. numba.jit 함수를 이용하여 구구단을 출력했을 때 걸리는 시간은\n",
        " \n",
        " 100 loops, best of 3: 10.6 ms per loop 가 나왔습니다.\n",
        "\n",
        "4. cuda 함수 또한 구구단을 출력했을 때 걸리는 시간이\n",
        " \n",
        " 100 loops, best of 3: 10.7 ms per loop 가 나왔습니다\n",
        " \n",
        "그 파이썬 문법과, numba, cuba 시간 (1,3,4번 방법)이 비슷하게 나온 이유는 사실 numba를 CPU가속화 시켜서 얻는다거나, Cuda를 GPU병렬연산을 \n",
        "\n",
        "해서 얻는것이 아닌, 그냥 한줄짜리 직접적인 연산 출력을 했기 때문에 시간이 비슷할 수 밖에 없습니다.\n",
        "\n",
        "따라서, numpy 함수를 이용해서, 직접적으로 바로 출력하는 2번 방법이 출력시간이 가장 절약되었습니다.\n",
        "\n",
        "\n",
        "그리고 병렬연산을 위해서 가상의 곱하기 함수와 배열을 만들어서, 병렬연산을 실행해본 결과\n",
        "\n",
        "# NumPy on CPU\n",
        "\n",
        "The slowest run took 40.73 times longer than the fastest. This could mean that an intermediate result is being cached.\n",
        "1000000 loops, best of 3: 553 ns per loop\n",
        "\n",
        "# Numba on CPU\n",
        "\n",
        "The slowest run took 57.42 times longer than the fastest. This could mean that an intermediate result is being cached.\n",
        "1000000 loops, best of 3: 499 ns per loop\n",
        "\n",
        "# Numba on GPU\n",
        "\n",
        "1000 loops, best of 3: 973 µs per loop\n",
        "\n",
        "아래와 같은 결과로, GPU가 가장 빠른 병렬연산 결과를 나타내었습니다.\n"
      ]
    }
  ]
}