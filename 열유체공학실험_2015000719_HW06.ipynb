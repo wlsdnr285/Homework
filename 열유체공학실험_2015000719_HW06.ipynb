{
  "nbformat": 4,
  "nbformat_minor": 0,
  "metadata": {
    "colab": {
      "name": "열유체공학실험-2015000719-HW06.ipynb",
      "provenance": [],
      "collapsed_sections": [],
      "include_colab_link": true
    },
    "kernelspec": {
      "name": "python3",
      "display_name": "Python 3"
    }
  },
  "cells": [
    {
      "cell_type": "markdown",
      "metadata": {
        "id": "view-in-github",
        "colab_type": "text"
      },
      "source": [
        "<a href=\"https://colab.research.google.com/github/wlsdnr285/Homework/blob/master/%EC%97%B4%EC%9C%A0%EC%B2%B4%EA%B3%B5%ED%95%99%EC%8B%A4%ED%97%98_2015000719_HW06.ipynb\" target=\"_parent\"><img src=\"https://colab.research.google.com/assets/colab-badge.svg\" alt=\"Open In Colab\"/></a>"
      ]
    },
    {
      "cell_type": "code",
      "metadata": {
        "id": "_3X0f3uRc3R4",
        "colab_type": "code",
        "colab": {
          "base_uri": "https://localhost:8080/",
          "height": 283
        },
        "outputId": "8ab2ab11-ff94-45ef-d536-f14db8912ae5"
      },
      "source": [
        "'''\n",
        "* 감쇠진동 상미분방정식\n",
        " * 4x'' + 1x' + 4x = 0\n",
        " * x(0) = 10\n",
        " * x'(0) = 0\n",
        "* 위와 같을 때 t = 0부터 t = 20까지의 위치를 그래프로 그리시오.\n",
        "'''\n",
        "\n",
        "import numpy as np\n",
        "from scipy.integrate import solve_ivp\n",
        "import matplotlib.pyplot as plt\n",
        "\n",
        "\n",
        "def dXdt( t, X ) :                              # X[0] = x(t), X[1] = v(t)\n",
        "    return X[1], -X[1]-4*X[0]                   # x'(t), v'(t) = x''(t)\n",
        "\n",
        "  \n",
        "# 초기값\n",
        "X0 = ( 10, 0 )              # x(0)  ,  v(0) = x'(0)\n",
        "\n",
        "t0 = 0\n",
        "tend = 20\n",
        "\n",
        "sol = solve_ivp( dXdt, (t0, tend), X0, t_eval=np.linspace(t0,tend,101) )\n",
        "plt.plot( sol.t, sol.y[0] )\n",
        "plt.xlabel('t')\n",
        "plt.ylabel('y')\n",
        "plt.show()"
      ],
      "execution_count": 1,
      "outputs": [
        {
          "output_type": "display_data",
          "data": {
            "image/png": "[encoded data removed]",
            "text/plain": [
              "<Figure size 432x288 with 1 Axes>"
            ]
          },
          "metadata": {
            "tags": []
          }
        }
      ]
    }
  ]
}