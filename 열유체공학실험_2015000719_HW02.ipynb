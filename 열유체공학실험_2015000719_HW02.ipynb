{
  "nbformat": 4,
  "nbformat_minor": 0,
  "metadata": {
    "colab": {
      "name": "열유체공학실험-2015000719-HW02.ipynb",
      "version": "0.3.2",
      "provenance": [],
      "collapsed_sections": [],
      "include_colab_link": true
    },
    "kernelspec": {
      "name": "python3",
      "display_name": "Python 3"
    }
  },
  "cells": [
    {
      "cell_type": "markdown",
      "metadata": {
        "id": "view-in-github",
        "colab_type": "text"
      },
      "source": [
        "<a href=\"https://colab.research.google.com/github/wlsdnr285/Homework/blob/master/%EC%97%B4%EC%9C%A0%EC%B2%B4%EA%B3%B5%ED%95%99%EC%8B%A4%ED%97%98_2015000719_HW02.ipynb\" target=\"_parent\"><img src=\"https://colab.research.google.com/assets/colab-badge.svg\" alt=\"Open In Colab\"/></a>"
      ]
    },
    {
      "cell_type": "code",
      "metadata": {
        "id": "3Q_GyErxtDnY",
        "colab_type": "code",
        "outputId": "c29c3c15-e2bf-43dc-fac6-80ede2f508b0",
        "colab": {
          "base_uri": "https://localhost:8080/",
          "height": 215
        }
      },
      "source": [
        "print(\"구구단 출력\")\n",
        "x = int(input())\n",
        "for y in range(1,10):\n",
        "     print(x, \"X\", y, \"=\", x*y)"
      ],
      "execution_count": 0,
      "outputs": [
        {
          "output_type": "stream",
          "text": [
            "구구단 출력\n",
            "15\n",
            "15 X 1 = 15\n",
            "15 X 2 = 30\n",
            "15 X 3 = 45\n",
            "15 X 4 = 60\n",
            "15 X 5 = 75\n",
            "15 X 6 = 90\n",
            "15 X 7 = 105\n",
            "15 X 8 = 120\n",
            "15 X 9 = 135\n"
          ],
          "name": "stdout"
        }
      ]
    }
  ]
}